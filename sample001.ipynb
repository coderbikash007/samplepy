{
 "cells": [
  {
   "cell_type": "code",
   "execution_count": null,
   "metadata": {
    "collapsed": true,
    "slideshow": {
     "slide_type": "slide"
    }
   },
   "outputs": [],
   "source": [
    "import math,cmath,scipy\n",
    "import numpy as np\n",
    "import matplotlib.pyplot as plt\n",
    "class mainme(object):\n",
    "    def __init__(self,a,b,c):\n",
    "        self.a=a\n",
    "        self.b=b\n",
    "        self.c=c\n",
    "    def func(self):\n",
    "        value1=math.exp(self.a+self.b)\n",
    "        value2=math.exp(self.a+self.c)\n",
    "        value3=cmath.exp(cmath.sqrt(-self.a)+self.b)\n",
    "        value4=value3.real\n",
    "        value5=value3.imag\n",
    "        listmake=[value4,value5]\n",
    "        return listmake"
   ]
  },
  {
   "cell_type": "code",
   "execution_count": 74,
   "metadata": {
    "collapsed": false,
    "slideshow": {
     "slide_type": "slide"
    }
   },
   "outputs": [
    {
     "data": {
      "image/png": "[encoded data removed]",
      "text/plain": [
       "<matplotlib.figure.Figure at 0x1b0df8b8470>"
      ]
     },
     "metadata": {},
     "output_type": "display_data"
    }
   ],
   "source": [
    "import numpy as np\n",
    "import math,cmath\n",
    "import matplotlib.pyplot as plt\n",
    "para_l=np.arange(0,3,0.01)\n",
    "parb_l=np.arange(0,3,0.01)\n",
    "parc_l=np.arange(0,3,0.01)\n",
    "c1=[mainme(para_l[i],parb_l[i],parc_l[i]) for i in range(len(para_l))]\n",
    "val1=[c1[i].func() for i in range(len(para_l))]\n",
    "rv=[val1[i][0] for i in range(len(para_l))]\n",
    "rm=[val1[i][1] for i in range(len(para_l))]\n",
    "par_l_l=[para_l[i] for i in range(len(para_l))]\n",
    "plt.plot(par_l_l,rv,para_l,rm)\n",
    "plt.title('plot of exp(ix)')\n",
    "plt.show()"
   ]
  }
 ],
 "metadata": {
  "celltoolbar": "Slideshow",
  "kernelspec": {
   "display_name": "Python 3",
   "language": "python",
   "name": "python3"
  },
  "language_info": {
   "codemirror_mode": {
    "name": "ipython",
    "version": 3
   },
   "file_extension": ".py",
   "mimetype": "text/x-python",
   "name": "python",
   "nbconvert_exporter": "python",
   "pygments_lexer": "ipython3",
   "version": "3.6.0"
  }
 },
 "nbformat": 4,
 "nbformat_minor": 2
}
